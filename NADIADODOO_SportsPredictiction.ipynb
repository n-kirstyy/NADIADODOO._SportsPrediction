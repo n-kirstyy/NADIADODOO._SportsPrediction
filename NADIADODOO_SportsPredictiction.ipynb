{
 "cells": [
  {
   "cell_type": "code",
   "execution_count": 8,
   "id": "6161b769-d839-4257-a978-ed676ad81fcf",
   "metadata": {},
   "outputs": [],
   "source": [
    "import pandas as pd\n",
    "import numpy as np\n",
    "import pickle as pkl\n",
    "import joblib as j"
   ]
  },
  {
   "cell_type": "code",
   "execution_count": null,
   "id": "cbdb1ba2-52e6-48ab-addd-cdd1545f5b5f",
   "metadata": {},
   "outputs": [],
   "source": []
  },
  {
   "cell_type": "code",
   "execution_count": 9,
   "id": "a8e352c6-52fb-4102-825e-a2f6699c1390",
   "metadata": {},
   "outputs": [],
   "source": [
    "from category_encoders import BinaryEncoder"
   ]
  },
  {
   "cell_type": "code",
   "execution_count": 10,
   "id": "bfc93964-32d8-4890-9d80-809f1ab58fdc",
   "metadata": {},
   "outputs": [],
   "source": [
    "from sklearn.experimental import enable_iterative_imputer"
   ]
  },
  {
   "cell_type": "code",
   "execution_count": 11,
   "id": "1c60bf07-ae3a-4574-87d7-57cae1352f0d",
   "metadata": {},
   "outputs": [],
   "source": [
    "from sklearn.ensemble import GradientBoostingRegressor\n",
    "from sklearn.ensemble import RandomForestRegressor"
   ]
  },
  {
   "cell_type": "code",
   "execution_count": 12,
   "id": "400ce0b2-53ca-4d14-908d-e396f702e702",
   "metadata": {},
   "outputs": [],
   "source": [
    "from sklearn.feature_extraction import FeatureHasher "
   ]
  },
  {
   "cell_type": "code",
   "execution_count": 13,
   "id": "55ef98bf-b9d6-48f0-ac9d-69d4905e31fd",
   "metadata": {},
   "outputs": [],
   "source": [
    "from sklearn.impute import SimpleImputer\n",
    "from sklearn.impute import IterativeImputer"
   ]
  },
  {
   "cell_type": "code",
   "execution_count": 14,
   "id": "79ca7cec-6c66-4f2d-8bf3-b020aaf7044c",
   "metadata": {},
   "outputs": [],
   "source": [
    "from sklearn.metrics import mean_absolute_error, mean_squared_error "
   ]
  },
  {
   "cell_type": "code",
   "execution_count": 15,
   "id": "79da9784-4549-4e96-ac6e-c380e622d4f1",
   "metadata": {},
   "outputs": [],
   "source": [
    "from sklearn.model_selection import GridSearchCV, KFold\n",
    "from sklearn.model_selection import train_test_split\n",
    "from sklearn.model_selection import cross_val_score"
   ]
  },
  {
   "cell_type": "code",
   "execution_count": 16,
   "id": "cc87092b-5f5e-4cd0-bda9-e8e3be7c6b4d",
   "metadata": {},
   "outputs": [],
   "source": [
    "from sklearn.preprocessing import StandardScaler"
   ]
  },
  {
   "cell_type": "code",
   "execution_count": 17,
   "id": "64a4ace8-bc74-43cf-b044-145c3a7b2e45",
   "metadata": {},
   "outputs": [],
   "source": [
    "from xgboost import XGBRegressor"
   ]
  },
  {
   "cell_type": "code",
   "execution_count": 18,
   "id": "df6bb75d-c939-4c68-a79c-cf6919763981",
   "metadata": {},
   "outputs": [
    {
     "name": "stderr",
     "output_type": "stream",
     "text": [
      "C:\\Users\\nadib_1ucshh9\\AppData\\Local\\Temp\\ipykernel_24384\\1477025706.py:1: DtypeWarning: Columns (108) have mixed types. Specify dtype option on import or set low_memory=False.\n",
      "  mlegacy = pd.read_csv('male_players (legacy).csv')\n",
      "C:\\Users\\nadib_1ucshh9\\AppData\\Local\\Temp\\ipykernel_24384\\1477025706.py:2: DtypeWarning: Columns (25,108) have mixed types. Specify dtype option on import or set low_memory=False.\n",
      "  pl22 = pd.read_csv('players_22-1.csv')\n"
     ]
    }
   ],
   "source": [
    "mlegacy = pd.read_csv('male_players (legacy).csv')\n",
    "pl22 = pd.read_csv('players_22-1.csv')"
   ]
  },
  {
   "cell_type": "code",
   "execution_count": 19,
   "id": "73ab0b67-adf9-4bb9-b2ca-2cc0bfd1b656",
   "metadata": {},
   "outputs": [],
   "source": [
    "def data_preparation (df):\n",
    "    df.dropna(axis = 1, thresh=(1-30/100)*len(df), inplace = True) #drops all columns with more than 30% null values\n",
    "\n",
    "    # split data into numeric and non-numeric data \n",
    "    numeric = df.select_dtypes (include = np.number) \n",
    "    non_numeric = df.select_dtypes (include = ['object'])\n",
    "\n",
    "    #imputing numeric data\n",
    "    imp = IterativeImputer(max_iter=10, random_state=0)\n",
    "    numeric_imputed = pd.DataFrame(np.round(imp.fit_transform(numeric)), columns = numeric.copy().columns)\n",
    "\n",
    "    #imputing non numeric data \n",
    "    imp2 = SimpleImputer(strategy = 'most_frequent')\n",
    "    non_numeric_imputed = pd.DataFrame (imp2.fit_transform(non_numeric), columns=non_numeric.copy().columns)\n",
    "\n",
    "    #encoding non numeric data\n",
    "    non_num_encoded = BinaryEncoder().fit_transform(non_numeric_imputed)\n",
    "\n",
    "    #creating dependent and independent variables\n",
    "    y = numeric_imputed['overall']\n",
    "    x = pd.concat([numeric_imputed, non_num_encoded], axis=1)\n",
    "\n",
    "    correlation_matrix = x.corr()['overall'].abs().sort_values (ascending=False)\n",
    "    selected_features = correlation_matrix[:16]\n",
    "    x = x[selected_features.index]\n",
    "    x.drop('overall', axis=1, inplace = True)\n",
    "\n",
    "    scaler = StandardScaler()\n",
    "    scaled = scaler.fit_transform(x)\n",
    "    x = pd.DataFrame(scaled, columns = x.columns)\n",
    "    \n",
    "    return x, y"
   ]
  },
  {
   "cell_type": "code",
   "execution_count": null,
   "id": "4cd8905a-f1b8-4132-ad25-6716789a85e2",
   "metadata": {},
   "outputs": [],
   "source": [
    "x, y = data_preparation(mlegacy)"
   ]
  },
  {
   "cell_type": "code",
   "execution_count": null,
   "id": "867aa37a-ce2a-46a4-87e5-180cd279da26",
   "metadata": {},
   "outputs": [],
   "source": [
    "x_train, x_test, y_train, y_test = train_test_split(x, y, test_size = 0.3, random_state = 7)"
   ]
  },
  {
   "cell_type": "code",
   "execution_count": null,
   "id": "7d94c1bb-53a0-4162-8377-db6b9899d82a",
   "metadata": {},
   "outputs": [],
   "source": [
    "rf_model = RandomForestRegressor(n_estimators=100, random_state=42)\n",
    "\n",
    "cv_scores = cross_val_score (rf_model, x_train, y_train, cv = 5, scoring='r2')\n",
    "print (f'Cross-validation R^2 scores: {cv_scores}')\n",
    "rf_model.fit(x_train, y_train)\n",
    "y_pred = rf_model.predict(x_test)\n",
    "\n",
    "print (f'MAE: {mean_absolute_error(y_test, y_pred)}')\n",
    "print (f'RMSE: {np.sqrt(mean_absolute_error (y_test, y_pred))}')"
   ]
  },
  {
   "cell_type": "code",
   "execution_count": null,
   "id": "d6ff68b2-d11c-40fc-b5ae-241f5d03fbb7",
   "metadata": {},
   "outputs": [],
   "source": [
    "gbr_model = GradientBoostingRegressor(n_estimators=100, random_state=7)\n",
    "\n",
    "cv_scores = cross_val_score (gbr_model, x_train, y_train, cv=5, scoring='r2')\n",
    "print (f'Cross-validation R^2 scores: {cv_scores}')\n",
    "\n",
    "gbr_model.fit(x_train, y_train)\n",
    "y_pred = gbr_model.predict(x_test)\n",
    "\n",
    "print (f'MAE: {mean_absolute_error(y_test, y_pred)}')\n",
    "print (f'RMSE: {np.sqrt(mean_absolute_error (y_test, y_pred))}')"
   ]
  },
  {
   "cell_type": "code",
   "execution_count": null,
   "id": "bd14ff4f-e4cc-48e5-b60d-f3e68e4a9b45",
   "metadata": {},
   "outputs": [],
   "source": [
    "xgb_model = XGBRegressor(n_estimators=100, random_state=7)\n",
    "\n",
    "cv_scores = cross_val_score (xgb_model, x_train, y_train, cv=5, scoring='r2')\n",
    "print (f'Cross-validation R^2 scores: {cv_scores}')\n",
    "\n",
    "xgb_model.fit(x_train, y_train)\n",
    "y_pred = xgb_model.predict(x_test)\n",
    "\n",
    "print (f'MAE: {mean_absolute_error(y_test, y_pred)}')\n",
    "print (f'RMSE: {np.sqrt(mean_absolute_error (y_test, y_pred))}')"
   ]
  },
  {
   "cell_type": "code",
   "execution_count": null,
   "id": "ef906939-d675-4655-a89b-64cc7ddfcbbd",
   "metadata": {},
   "outputs": [],
   "source": [
    "# Random Forest Regressor \n",
    "param_rf = {\n",
    "    'n_estimators': [100, 200], \n",
    "    'max_depth': [10, 20, 30], \n",
    "    'min_samples_split': [2, 5]\n",
    "}\n",
    "\n",
    "grid_searchr = GridSearchCV(estimator = rf_model, param_grid = param_rf, cv=3, scoring='neg_mean_squared_error', verbose=1, n_jobs=-1) \n",
    "grid_searchr.fit(x_train, y_train)\n",
    "print('Random Forest best parameters: ', grid_searchr.best_params_) \n",
    "fine_tuned_rf = grid_searchr.best_estimator_"
   ]
  },
  {
   "cell_type": "code",
   "execution_count": null,
   "id": "8235ae94-2fa8-4c7c-85d4-0f42880f03a1",
   "metadata": {},
   "outputs": [],
   "source": [
    "# Gradient Boosting Regressor\n",
    "param_gbr = {\n",
    "    'n_estimators': [100, 200],\n",
    "    'learning_rate': [0.1, 0.05], \n",
    "    'max_depth': [3, 5],\n",
    "}\n",
    "\n",
    "grid_searchg = GridSearchCV(estimator = gbr_model, param_grid = param_gbr, cv=3, scoring='neg_mean_squared_error', verbose=1, n_jobs=-1)\n",
    "grid_searchg.fit(x_train, y_train)\n",
    "print('Gradient Boosting best parameters: ', grid_searchg. best_params_) \n",
    "fine_tuned_gbr = grid_searchg. best_estimator_ "
   ]
  },
  {
   "cell_type": "code",
   "execution_count": null,
   "id": "3ff576b9-0242-4223-9f3c-f97ae18136a4",
   "metadata": {},
   "outputs": [],
   "source": [
    "# XGBoost regressor\n",
    "param_xgb = {\n",
    "    'n_estimators': [100, 200],\n",
    "    'learning_rate': [0.1, 0.05], \n",
    "    'max_depth': [3, 5]\n",
    "    }\n",
    "grid_searchx = GridSearchCV(estimator = xgb_model, param_grid = param_xgb, cv=3, scoring = 'neg_mean_squared_error', n_jobs=-1, verbose=1)\n",
    "grid_searchx.fit(x_train, y_train)\n",
    "print(\"XGBoost best parameters: \", grid_searchx.best_params_) \n",
    "fine_tuned_xgb = grid_searchx.best_estimator_ "
   ]
  },
  {
   "cell_type": "code",
   "execution_count": null,
   "id": "20536d3d-c150-4a6e-9ae9-feb6adbe9332",
   "metadata": {},
   "outputs": [],
   "source": [
    "x2, y2 = data_preparation(pl22) # prepping new data"
   ]
  },
  {
   "cell_type": "code",
   "execution_count": null,
   "id": "855433ea-69f4-4ac7-976f-f47fa305d48e",
   "metadata": {},
   "outputs": [],
   "source": [
    "x_train2, x_test2, y_train2, y_test2 = train_test_split(x2, y2, test_size = 0.3, random_state = 20) #breaking it up for training and testing"
   ]
  },
  {
   "cell_type": "code",
   "execution_count": null,
   "id": "31f9bf8a-6bd6-490f-98cc-220f40a77086",
   "metadata": {},
   "outputs": [],
   "source": [
    "fine_tuned_rf.fit(x_train2, y_train2)\n",
    "y_pred2 = fine_tuned_rf.predict(x_test2)\n",
    "\n",
    "print (f'MAE: {mean_absolute_error(y_test2, y_pred2)}')\n",
    "print (f'RMSE: {np.sqrt(mean_absolute_error (y_test2, y_pred2))}')"
   ]
  },
  {
   "cell_type": "code",
   "execution_count": null,
   "id": "49d3ee72-3956-4a65-8016-b71df7d1cbe4",
   "metadata": {},
   "outputs": [],
   "source": [
    "fine_tuned_gbr.fit(x_train2, y_train2,)\n",
    "y_pred2 = fine_tuned_gbr.predict(x_test2)\n",
    "\n",
    "print (f'MAE: {mean_absolute_error(y_test2, y_pred2)}')\n",
    "print (f'RMSE: {np.sqrt(mean_absolute_error (y_test2, y_pred2))}')"
   ]
  },
  {
   "cell_type": "code",
   "execution_count": null,
   "id": "6d68dd8e-3fec-4c6b-9365-f919e2e29bf4",
   "metadata": {},
   "outputs": [],
   "source": [
    "fine_tuned_xgb.fit(x_train2, y_train2,)\n",
    "y_pred2 = fine_tuned_xgb.predict(x_test2)\n",
    "\n",
    "print (f'MAE: {mean_absolute_error(y_test2, y_pred2)}')\n",
    "print (f'RMSE: {np.sqrt(mean_absolute_error (y_test2, y_pred2))}')"
   ]
  },
  {
   "cell_type": "code",
   "execution_count": null,
   "id": "dc624f29-30c1-43c9-ac73-5b31cfc40732",
   "metadata": {},
   "outputs": [],
   "source": [
    "j.dump(fine_tuned_rf, 'random_forest_model.pkl')"
   ]
  },
  {
   "cell_type": "code",
   "execution_count": null,
   "id": "f47a3034-afd3-4009-92cc-fe28b597a18b",
   "metadata": {},
   "outputs": [],
   "source": []
  }
 ],
 "metadata": {
  "kernelspec": {
   "display_name": "Python 3 (ipykernel)",
   "language": "python",
   "name": "python3"
  },
  "language_info": {
   "codemirror_mode": {
    "name": "ipython",
    "version": 3
   },
   "file_extension": ".py",
   "mimetype": "text/x-python",
   "name": "python",
   "nbconvert_exporter": "python",
   "pygments_lexer": "ipython3",
   "version": "3.11.7"
  }
 },
 "nbformat": 4,
 "nbformat_minor": 5
}
